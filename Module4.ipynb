{
  "nbformat": 4,
  "nbformat_minor": 0,
  "metadata": {
    "colab": {
      "provenance": []
    },
    "kernelspec": {
      "name": "python3",
      "display_name": "Python 3"
    },
    "language_info": {
      "name": "python"
    }
  },
  "cells": [
    {
      "cell_type": "markdown",
      "source": [
        "**[1]\n",
        "What is File fuction in python? What is keywords to create and write file?**\n",
        " - A file object allows us to use, access and manipulate all the user accessible files. One can read and write any such files. When a file operation fails for an I/O-related reason, the exception IOError is raised.\n",
        "  \n",
        "  - **Create()**: use the open() function with one of the following options – \"x\" or \"w\" – to create a new file: \"x\" – Create: this command will create a new file if and only if there is no file already in existence with that name or else it will return an error.\n",
        "  -**write()** : This function writes a fixed sequence of characters to a file. writelines() : This function writes a list of string\n",
        " \n"
      ],
      "metadata": {
        "id": "RjXO1G-Y47Og"
      }
    },
    {
      "cell_type": "code",
      "source": [
        "#[2]\n",
        "a=str(input(\"Enter the name of the file: \"))\n",
        "file1=open(a,'r')\n",
        "line=file1.readline()\n",
        "while(line!=\"\"):\n",
        "    print(line)\n",
        "    line=file1.readline()\n",
        "file1.close()"
      ],
      "metadata": {
        "id": "UBGzb63WzfsE",
        "colab": {
          "base_uri": "https://localhost:8080/"
        },
        "outputId": "d0c90959-aeca-4b1c-aa6f-cbec0082e2bb"
      },
      "execution_count": 5,
      "outputs": [
        {
          "output_type": "stream",
          "name": "stdout",
          "text": [
            "Enter the name of the file: abc.txt\n",
            "\n",
            "\n",
            "hello python students\n"
          ]
        }
      ]
    },
    {
      "cell_type": "code",
      "source": [
        "#[3]\n",
        "fname = input(\"Enter file name: \")\n",
        "file3=open(fname,\"a\")\n",
        "c=input(\"Enter string to append: \\n\");\n",
        "file3.write(\"\\n\")\n",
        "file3.write(c)\n",
        "file3.close()\n",
        "print(\"Contents of appended file:\");\n",
        "file4=open(fname,'r')\n",
        "line1=file4.readline()\n",
        "while(line1!=\"\"):\n",
        "    print(line1)\n",
        "    line1=file4.readline()    \n",
        "file4.close()"
      ],
      "metadata": {
        "colab": {
          "base_uri": "https://localhost:8080/"
        },
        "id": "w-ghWLQ80Qh1",
        "outputId": "d173ae3e-5332-4164-8806-deb6299e92ef"
      },
      "execution_count": 4,
      "outputs": [
        {
          "output_type": "stream",
          "name": "stdout",
          "text": [
            "Enter file name: abc.txt\n",
            "Enter string to append: \n",
            "hello python students\n",
            "Contents of appended file:\n",
            "\n",
            "\n",
            "hello python students\n"
          ]
        }
      ]
    },
    {
      "cell_type": "code",
      "source": [
        "#[4]\n",
        "def file_read_from_head(fname, nlines):\n",
        "        from itertools import islice\n",
        "        with open(fname) as f:\n",
        "                for line in islice(f, nlines):\n",
        "                        print(line)\n",
        "file_read_from_head('module.txt',2)\n",
        "\n"
      ],
      "metadata": {
        "colab": {
          "base_uri": "https://localhost:8080/"
        },
        "id": "-kKrmdyj10-I",
        "outputId": "52b7fee3-f054-40b2-85bd-d19aa1a828c2"
      },
      "execution_count": null,
      "outputs": [
        {
          "output_type": "stream",
          "name": "stdout",
          "text": [
            "\n",
            "\n",
            "test\n",
            "\n"
          ]
        }
      ]
    },
    {
      "cell_type": "code",
      "source": [
        "#[5]\n",
        "import sys\n",
        "import os\n",
        "def file_read_from_tail(fname,lines):\n",
        "        bufsize = 8192\n",
        "        fsize = os.stat(fname).st_size\n",
        "        iter = 0\n",
        "        with open(fname) as f:\n",
        "                if bufsize > fsize:\n",
        "                        bufsize = fsize-1\n",
        "                        data = []\n",
        "                        while True:\n",
        "                                iter +=1\n",
        "                                f.seek(fsize-bufsize*iter)\n",
        "                                data.extend(f.readlines())\n",
        "                                if len(data) >= lines or f.tell() == 0:\n",
        "                                        print(''.join(data[-lines:]))\n",
        "                                        break\n",
        "\n",
        "file_read_from_tail('module.txt',2)\n"
      ],
      "metadata": {
        "colab": {
          "base_uri": "https://localhost:8080/"
        },
        "id": "iZ0yjCqQ3Bi2",
        "outputId": "dd6bb42a-d27a-41d0-a1a3-08257c0c7df6"
      },
      "execution_count": null,
      "outputs": [
        {
          "output_type": "stream",
          "name": "stdout",
          "text": [
            "test\n",
            "hello shreya\n"
          ]
        }
      ]
    },
    {
      "cell_type": "code",
      "source": [
        "#[6]\n",
        "def file_read(fname):\n",
        "        with open(fname) as f:\n",
        "                #Content_list is the list that contains the read lines.     \n",
        "                content_list = f.readlines()\n",
        "                print(content_list)\n",
        "\n",
        "file_read('abc.txt')\n"
      ],
      "metadata": {
        "id": "0QudYVTtxkky",
        "colab": {
          "base_uri": "https://localhost:8080/"
        },
        "outputId": "394e7b17-053e-4922-e1c6-a7157f416bf6"
      },
      "execution_count": 12,
      "outputs": [
        {
          "output_type": "stream",
          "name": "stdout",
          "text": [
            "['\\n', 'hello python students']\n"
          ]
        }
      ]
    },
    {
      "cell_type": "code",
      "source": [
        "#[7]\n",
        "def file_read(fname):\n",
        "        with open (fname, \"r\") as myfile:\n",
        "                data=myfile.readlines()\n",
        "                print(data)\n",
        "file_read('abc.txt')"
      ],
      "metadata": {
        "id": "Brgb6b3Fz6vn",
        "colab": {
          "base_uri": "https://localhost:8080/"
        },
        "outputId": "743d8ecf-9915-491e-869a-8c8c1d3c507b"
      },
      "execution_count": 6,
      "outputs": [
        {
          "output_type": "stream",
          "name": "stdout",
          "text": [
            "['\\n', 'hello python students']\n"
          ]
        }
      ]
    },
    {
      "cell_type": "code",
      "source": [
        "#[8]\n",
        "sentence = input(\"Enter sentence: \")\n",
        "longest = max(sentence.split(), key=len)\n",
        "print(\"Longest word is: \", longest)\n",
        "print(\"And its length is: \", len(longest))\n"
      ],
      "metadata": {
        "colab": {
          "base_uri": "https://localhost:8080/"
        },
        "id": "PfAjWpIv0T4R",
        "outputId": "06ef32a4-cdac-423f-87bc-f6f4e0df6937"
      },
      "execution_count": null,
      "outputs": [
        {
          "output_type": "stream",
          "name": "stdout",
          "text": [
            "Enter sentence: python programming language\n",
            "Longest word is:  programming\n",
            "And its length is:  11\n"
          ]
        }
      ]
    },
    {
      "cell_type": "code",
      "source": [
        "#[9]\n",
        "fname = input(\"Enter file name: \")\n",
        "num_lines = 0\n",
        "with open(fname, 'r') as f:\n",
        "    for line in f:\n",
        "        num_lines += 1\n",
        "print(\"Number of lines:\")\n",
        "print(num_lines)"
      ],
      "metadata": {
        "id": "rnkb79it2a9s",
        "colab": {
          "base_uri": "https://localhost:8080/"
        },
        "outputId": "7070d72a-a518-433d-8ac6-7e6e98e17582"
      },
      "execution_count": 8,
      "outputs": [
        {
          "output_type": "stream",
          "name": "stdout",
          "text": [
            "Enter file name: abc.txt\n",
            "Number of lines:\n",
            "2\n"
          ]
        }
      ]
    },
    {
      "cell_type": "code",
      "source": [
        "#[10]\n",
        "fname = input('Enter the file name: ')\n",
        "try:\n",
        "    fhand = open(fname)\n",
        "    counts = dict()\n",
        "    for line in fhand:\n",
        "        words = line.split()\n",
        "        for word in words:\n",
        "            if word in counts:\n",
        "                counts[word] += 1\n",
        "            else:\n",
        "                counts[word] = 1\n",
        "    print(counts)\n",
        "except:\n",
        "    print('File cannot be opened:', fname)"
      ],
      "metadata": {
        "colab": {
          "base_uri": "https://localhost:8080/"
        },
        "id": "OLVqIA5O3Wzc",
        "outputId": "9d6f4e15-56d4-4dcc-a824-7b564fd98740"
      },
      "execution_count": 9,
      "outputs": [
        {
          "output_type": "stream",
          "name": "stdout",
          "text": [
            "Enter the file name: abc.txt\n",
            "{'hello': 1, 'python': 1, 'students': 1}\n"
          ]
        }
      ]
    },
    {
      "cell_type": "code",
      "source": [
        "#[11]\n",
        "color = ['Red', 'Green', 'White', 'Black', 'Pink', 'Yellow']\n",
        "with open('module.txt', \"w\") as myfile:\n",
        "        for c in color:\n",
        "                myfile.write(\"%s\\n\" % c)\n",
        "\n",
        "content = open('abc.txt')\n",
        "print(content.read())\n"
      ],
      "metadata": {
        "colab": {
          "base_uri": "https://localhost:8080/"
        },
        "id": "BaX9RVbN4sDn",
        "outputId": "75f2303f-4b32-43e1-b510-652d63b0750c"
      },
      "execution_count": 11,
      "outputs": [
        {
          "output_type": "stream",
          "name": "stdout",
          "text": [
            "\n",
            "hello python students\n"
          ]
        }
      ]
    },
    {
      "cell_type": "code",
      "source": [
        "#[12]\n",
        "from shutil import copyfile\n",
        "copyfile('module.txt', 'abc.txt')\n"
      ],
      "metadata": {
        "colab": {
          "base_uri": "https://localhost:8080/",
          "height": 36
        },
        "id": "WgQ6VH1slFIx",
        "outputId": "36fae3c9-6490-4854-bdaa-7df42d2b57a8"
      },
      "execution_count": 13,
      "outputs": [
        {
          "output_type": "execute_result",
          "data": {
            "text/plain": [
              "'abc.txt'"
            ],
            "application/vnd.google.colaboratory.intrinsic+json": {
              "type": "string"
            }
          },
          "metadata": {},
          "execution_count": 13
        }
      ]
    },
    {
      "cell_type": "markdown",
      "source": [
        "**[13]Explain Exception handling? What is an Error in Python?**\n",
        " - Exception handling allows you to separate error-handling code from normal code. An exception is a Python object which represents an error. As with code comments, exceptions helps you to remind yourself of what the program expects. It clarifies the code and enhances readability.\n",
        " - There are mainly two types of errors in python programming namely - Syntax errors and Logical Errors or Exceptions. Whenever we do not write the proper syntax of the python programming language (or any other language) then the python interpreter throws an error known as syntax error \n"
      ],
      "metadata": {
        "id": "FtOcGilvv8X8"
      }
    },
    {
      "cell_type": "markdown",
      "source": [
        "**[14] How many except statements can a try-except block have? Name Some\n",
        "built-in exception classes:**\n",
        " - There has to be at least one except statement.\n",
        " "
      ],
      "metadata": {
        "id": "vkM2tmsdyTTb"
      }
    },
    {
      "cell_type": "markdown",
      "source": [
        "**[15] When will the else part of try-except-else be executed?**\n",
        " - The else part is executed when no exception occurs. \n"
      ],
      "metadata": {
        "id": "HJmai_5U0V0J"
      }
    },
    {
      "cell_type": "markdown",
      "source": [
        "**[16] Can one block of except statements handle multiple exception?** \n",
        " -  try-except blocks can be used to catch and respond to one or multiple exceptions. In cases where a process raises more than one possible exception, they can all be handled using a single except clause."
      ],
      "metadata": {
        "id": "yHirxwPk0rPr"
      }
    },
    {
      "cell_type": "markdown",
      "source": [
        "**[17] When is the finally block executed?**\n",
        " - The finally block will be executed no matter if the try block raises an error or not. This can be useful to close objects and clean up resources.\n"
      ],
      "metadata": {
        "id": "XDZpFFxT1zJv"
      }
    },
    {
      "cell_type": "markdown",
      "source": [
        "**[18] What happens when „1‟== 1 is executed?** \n",
        "\n",
        " - Explanation: it simply evaluates to false and does not raise any exception.\n"
      ],
      "metadata": {
        "id": "38VFT9C72bYo"
      }
    },
    {
      "cell_type": "markdown",
      "source": [
        "**[19] How Do You Handle Exceptions With Try/Except/Finally In Python?Explain with coding snippets.**\n",
        "- To handle the exception, we have put the code, result = numerator/denominator inside the try block. Now when an exception occurs, the rest of the code inside the try block is skipped. The except block catches the exception and statements inside the except block are executed.\n",
        "- Try and except statements are used to catch and handle exceptions in Python. Statements that can raise exceptions are kept inside the try clause and the statements that handle the exception are written inside except clause.\n",
        "- A code Snippet is a programming term that refers to a small portion of re-usable source code, machine code, or text. Snippets help programmers reduce the time it takes to type in repetitive information while coding. Code Snippets are a feature on most text editors, code editors, and IDEs.\n",
        "\n",
        "\n",
        "\n",
        " \n"
      ],
      "metadata": {
        "id": "BJhju2Ec24vd"
      }
    },
    {
      "cell_type": "code",
      "source": [
        "#[20]\n",
        "num = int(input(\"Enter a number: \"))\n",
        "mod = num % 2\n",
        "if mod > 0:\n",
        "    print(\"This is an odd number.\")\n",
        "else:\n",
        "    print(\"This is an even number.\")"
      ],
      "metadata": {
        "colab": {
          "base_uri": "https://localhost:8080/"
        },
        "id": "3AiOn8Emt2na",
        "outputId": "d606ff28-5f69-481b-cfaa-0ff99f7bf379"
      },
      "execution_count": 14,
      "outputs": [
        {
          "output_type": "stream",
          "name": "stdout",
          "text": [
            "Enter a number: 25\n",
            "This is an odd number.\n"
          ]
        }
      ]
    },
    {
      "cell_type": "markdown",
      "source": [
        "**[21] What are oops concepts? Is multiple inheritance supported in java**\n",
        " - Inheritance is one of the core concepts of Object-Oriented Programming. Multiple Inheritance is the process in which a subclass inherits more than one superclass. Java does not support Multiple Inheritance; however, Java interfaces help us achieve Multiple Inheritance of type in Java.\n",
        " - Multiple inheritance in java is the capability of creating a single class with multiple superclasses. Unlike some other popular object oriented programming languages like C++, java doesn't provide support for multiple inheritance in classes.\n",
        "\n",
        " \n"
      ],
      "metadata": {
        "id": "N9m3aCAiKh_v"
      }
    },
    {
      "cell_type": "markdown",
      "source": [
        "**[22] How to Define a Class in Python? What Is Self? Give An Example Of\n",
        "A Python Class**\n",
        "- A class in Python can be defined using the class keyword. As per the syntax above, a class is defined using the class keyword followed by the class name and : operator after the class name, which allows you to continue in the next indented line to define class members.\n",
        "- \n",
        "The self keyword is used to represent an instance (object) of the given class.\n",
        "\n",
        "- Example:- suppose Bike is a class then we can create objects like bike1 , bike2 , etc from the class. Here's the syntax to create an object. Here, bike1 is the object of the class.\n",
        " \n"
      ],
      "metadata": {
        "id": "P7lQIm8PczRT"
      }
    },
    {
      "cell_type": "markdown",
      "source": [
        "**[23] Write a Python class named Rectangle constructed by a length and width and a method which will compute the area of a rectangle**\n",
        "- In Euclidean plane geometry, a rectangle is a quadrilateral with four right angles. To find the area of a rectangle, multiply the length by the width.\n",
        "A rectangle with four sides of equal length is a square. \n",
        " \n"
      ],
      "metadata": {
        "id": "wcDZYIm3m1EX"
      }
    },
    {
      "cell_type": "code",
      "source": [
        "#[23]\n",
        "class Rectangle():\n",
        "    def __init__(self, l, w):\n",
        "        self.length = l\n",
        "        self.width  = w\n",
        "\n",
        "    def rectangle_area(self):\n",
        "        return self.length*self.width\n",
        "\n",
        "newRectangle = Rectangle(12, 10)\n",
        "print(newRectangle.rectangle_area())\n"
      ],
      "metadata": {
        "colab": {
          "base_uri": "https://localhost:8080/"
        },
        "id": "VMMzFXGron34",
        "outputId": "b924161f-c28d-4290-dfeb-9dd4ea00a1c5"
      },
      "execution_count": null,
      "outputs": [
        {
          "output_type": "stream",
          "name": "stdout",
          "text": [
            "120\n"
          ]
        }
      ]
    },
    {
      "cell_type": "code",
      "source": [
        "#[24]/[25]\n",
        "class Circle():\n",
        "    def __init__(self, r):\n",
        "        self.radius = r\n",
        "\n",
        "    def area(self):\n",
        "        return self.radius**2*3.14\n",
        "    \n",
        "    def perimeter(self):\n",
        "        return 2*self.radius*3.14\n",
        "\n",
        "NewCircle = Circle(8)\n",
        "print(NewCircle.area())\n",
        "print(NewCircle.perimeter())\n"
      ],
      "metadata": {
        "colab": {
          "base_uri": "https://localhost:8080/"
        },
        "id": "s7EBrvbppdt3",
        "outputId": "f9d31f1e-f2c7-4b23-a980-9682c09e3b80"
      },
      "execution_count": null,
      "outputs": [
        {
          "output_type": "stream",
          "name": "stdout",
          "text": [
            "200.96\n",
            "50.24\n"
          ]
        }
      ]
    },
    {
      "cell_type": "markdown",
      "source": [
        "**[26]Explain Inheritance in Python with an example?What is init? Or What\n",
        "Is A Constructor In Python?**\n",
        " - Inheritance relationship defines the classes that inherit from other classes as derived, subclass, or sub-type classes. Base class remains to be the source from which a subclass inherits. For example, you have a Base class of “Animal,” and a “Lion” is a Derived class. The inheritance will be Lion is an Animal.\n",
        " - The __init__ method is the Python equivalent of the C++ constructor in an object-oriented approach. The __init__ function is called every time an object is created from a class. The __init__ method lets the class initialize the object's attributes and serves no other purpose. It is only used within classes.\n",
        " - Constructors are generally used for instantiating an object. The task of constructors is to initialize(assign values) to the data members of the class when an object of class is created.In Python the __init__() method is called the constructor and is always called when an object is created.\n",
        "\n",
        "\n"
      ],
      "metadata": {
        "id": "EApCE6Dopsz5"
      }
    },
    {
      "cell_type": "markdown",
      "source": [
        "**[27] What is Instantiation in terms of OOP terminology?**\n",
        " - Instantiation − The creation of an instance of a class. Method − A special kind of function that is defined in a class definition. Object − A unique instance of a data structure that's defined by its class. An object comprises both data members (class variables and instance variables) and methods. \n"
      ],
      "metadata": {
        "id": "IgjcKdoFrhzp"
      }
    },
    {
      "cell_type": "markdown",
      "source": [
        "**[28] What is used to check whether an object o is an instance of class A?**\n",
        " - The isinstance() function returns True if the specified object is of the specified type, otherwise False . If the type parameter is a tuple, this function will return True if the object is one of the types in the tuple.\n",
        " \n"
      ],
      "metadata": {
        "id": "arv-b-R8sxX1"
      }
    },
    {
      "cell_type": "markdown",
      "source": [
        "**[29] What relationship is appropriate for Course and Faculty?**\n",
        " - \"Composition(Has-A Relation)\" relationship between course and faculty class. \n"
      ],
      "metadata": {
        "id": "oC8VihLMt1qh"
      }
    },
    {
      "cell_type": "markdown",
      "source": [
        "**[30] What relationship is appropriate for Student and Person?**\n",
        " - So, simply we can say that it establishes an “is-a” or “kind of” relationship between Student and Person class.\n",
        "\n",
        "\n"
      ],
      "metadata": {
        "id": "Edg51tz_yF3N"
      }
    },
    {
      "cell_type": "code",
      "source": [
        "#[30]\n",
        "\n",
        "class Person:\n",
        "    def __init__(self, fname, lname, address):\n",
        "        self.fname = fname\n",
        "        self.lname = lname\n",
        "        self.address = address\n",
        "        \n",
        "    def display(self):\n",
        "        print(\"First Name: \", self.fname)\n",
        "        print(\"Last Name: \", self.lname)\n",
        "        print(\"Address: \", self.address)\n",
        "        \n",
        "class Student(Person):\n",
        "    def __init__(self, fname, lname, address, age, gradYear):\n",
        "        super().__init__(fname, lname, address)\n",
        "        self.age = age\n",
        "        self.gradYear = gradYear\n",
        "        \n",
        "    def display(self):\n",
        "        super().display()\n",
        "        print(\"Age: \", self.age)\n",
        "        print(\"Graduation Year: \", self.gradYear)\n",
        "\n",
        "# person object\n",
        "per = Person(\"aksh\", \"patel\", \"1234 abc blvd\") \n",
        "per.display()\n",
        "print(\"===========================================\")\n",
        "std = Student(\"shreya\", \"patel\", \"9876 xyz blvd\", 22, 2000)\n",
        "std.display()"
      ],
      "metadata": {
        "colab": {
          "base_uri": "https://localhost:8080/"
        },
        "id": "hGOh1mfLyOPP",
        "outputId": "e8d0aebc-3309-4b57-952d-72137e4e7ba1"
      },
      "execution_count": 16,
      "outputs": [
        {
          "output_type": "stream",
          "name": "stdout",
          "text": [
            "First Name:  aksh\n",
            "Last Name:  patel\n",
            "Address:  1234 abc blvd\n",
            "===========================================\n",
            "First Name:  shreya\n",
            "Last Name:  patel\n",
            "Address:  9876 xyz blvd\n",
            "Age:  22\n",
            "Graduation Year:  2000\n"
          ]
        }
      ]
    }
  ]
}