{
  "cells": [
    {
      "cell_type": "markdown",
      "metadata": {
        "id": "3aKqFrOaUWvd"
      },
      "source": [
        "# Module – 3 \n",
        "**1] What is List? How will you reverse a list?**\n",
        "\n",
        " - List are used to store multiple items in a single variable. list are one of 4 built-in data type in python used to store collection of data the other 3 are tuple,set and dictionary , all with diffrent qualities and usage.\n",
        " - A built-in function called reverse()is used to reverse the list. This simple and quick way to reverse a list requires little memory.\n",
        " - **Syntax :-** list_name.reverse() here , list_name means you have to write the list's name , which has to be reverse. \n"
      ]
    },
    {
      "cell_type": "markdown",
      "metadata": {
        "id": "oqR2d42nXIlb"
      },
      "source": [
        "**2] How will you remove last object from a list?**\n",
        "**Suppose list1 is [2, 33, 222, 14, and 25], what is list1 [-1]?**\n",
        "\n",
        "- Another efficient , yet simple approach to delete the last element of the list is by using the del statement. The del operator delete the element at the specified index location from the list. To delete the last element , we can use the negative index-1.\n",
        "- -1 corresponds to the last index in the list."
      ]
    },
    {
      "cell_type": "markdown",
      "metadata": {
        "id": "vlB4QDezYX1L"
      },
      "source": [
        "**3] Differentiate between append () and extend () methods?**\n",
        "\n",
        "**APPEND METHOD**\n",
        "\n",
        "- The element passed as an argument is appended to the end of the list. An iterable passed as an argument appends without any change as a single element to the end of the list. Length of the list increases by 1.\n",
        "- Syntax :- list_name.append(element)\n",
        "\n",
        "**EXTEND METHOD**\n",
        "\n",
        "- Each element of the iterable passed as an argument gets appended to the end of the list. An iterable passed as an argument will append each of its elements to the end of the list. An iterable passed as an argument will append each of its elements to the end of the list.\n",
        "-**Syntax :-** list_name.extend(iterable)"
      ]
    },
    {
      "cell_type": "code",
      "execution_count": null,
      "metadata": {
        "colab": {
          "base_uri": "https://localhost:8080/"
        },
        "id": "aVV2dqUCcRHD",
        "outputId": "22d15957-11de-487d-c27d-ba989c686bfa"
      },
      "outputs": [
        {
          "name": "stdout",
          "output_type": "stream",
          "text": [
            "Enter the number of elements in list: 3\n",
            "Enter elements: 12\n",
            "Enter elements: 34\n",
            "Enter elements: 2\n",
            "Largest element is: 34\n",
            "Smallest element is: 2\n"
          ]
        }
      ],
      "source": [
        "#[4]\n",
        "number=[]\n",
        "n=int(input(\"Enter the number of elements in list: \"))\n",
        "for i in range(1, n + 1):\n",
        "    element=int(input(\"Enter elements: \"))\n",
        "    number.append(element)\n",
        "number.sort()\n",
        "print(\"Largest element is:\",number[n-1])\n",
        "print(\"Smallest element is:\",number[0])"
      ]
    },
    {
      "cell_type": "markdown",
      "metadata": {
        "id": "J7DzLOWLkSSS"
      },
      "source": [
        "**5] How will you compare two lists?**\n",
        "- The reduce() and map() function\n",
        "- The collection.counter() function\n",
        "-Python sort() function along with == operator\n",
        "-Python set() function along with == operator\n",
        "-The difference() function"
      ]
    },
    {
      "cell_type": "code",
      "execution_count": null,
      "metadata": {
        "colab": {
          "base_uri": "https://localhost:8080/"
        },
        "id": "XTqG1bRt1AHA",
        "outputId": "93be4137-98a6-4236-80ba-2d7c6a9eaed7"
      },
      "outputs": [
        {
          "name": "stdout",
          "output_type": "stream",
          "text": [
            "2\n"
          ]
        }
      ],
      "source": [
        "#[6]\n",
        "def match_words(words):\n",
        "  ctr = 0\n",
        "\n",
        "  for word in words:\n",
        "    if len(word) > 1 and word[0] == word[-1]:\n",
        "      ctr += 1\n",
        "  return ctr\n",
        "\n",
        "print(match_words(['abc', 'xyz', 'aba', '1221']))"
      ]
    },
    {
      "cell_type": "code",
      "execution_count": null,
      "metadata": {
        "colab": {
          "base_uri": "https://localhost:8080/"
        },
        "id": "GVozJYIeT0lR",
        "outputId": "5c8d8eda-ad13-4a82-c356-41fa214870a8"
      },
      "outputs": [
        {
          "name": "stdout",
          "output_type": "stream",
          "text": [
            "The initialized list is  [12, 15, 11, 12, 8, 15, 3, 3]\n",
            "The resultant list after removing duplicates is  [12, 15, 11, 8, 3]\n"
          ]
        }
      ],
      "source": [
        "#[7]\n",
        "list_value1=[12,15,11,12,8,15,3,3]  \n",
        "print(\"The initialized list is \",list_value1)  \n",
        "res_list=[]  \n",
        "for i in list_value1:  \n",
        "    if i not in res_list:  \n",
        "        res_list.append(i)  \n",
        "print(\"The resultant list after removing duplicates is \",res_list)"
      ]
    },
    {
      "cell_type": "code",
      "execution_count": null,
      "metadata": {
        "colab": {
          "base_uri": "https://localhost:8080/"
        },
        "id": "KDsZE5WNVIVL",
        "outputId": "525ace67-f97a-4a8b-eacd-a26bff6b9f2f"
      },
      "outputs": [
        {
          "name": "stdout",
          "output_type": "stream",
          "text": [
            "List is empty\n"
          ]
        }
      ],
      "source": [
        "#[8]\n",
        "l = []\n",
        "if not l:\n",
        "  print(\"List is empty\")"
      ]
    },
    {
      "cell_type": "code",
      "execution_count": null,
      "metadata": {
        "colab": {
          "base_uri": "https://localhost:8080/"
        },
        "id": "jWc3IMgZ-iO7",
        "outputId": "42bb190b-e8da-4f67-d826-eddde6532e45"
      },
      "outputs": [
        {
          "name": "stdout",
          "output_type": "stream",
          "text": [
            "True\n"
          ]
        }
      ],
      "source": [
        "#[9]\n",
        "list1=[1,3,5,7]\n",
        "list2=[1,3,5,7]\n",
        "result = 0\n",
        "def find_common(list1, list2):\n",
        "     for x in list1:\n",
        "         for y in list2:\n",
        "             if x == y:\n",
        "                 result = True\n",
        "                 return result\n",
        "             else:\n",
        "               result = False\n",
        "               return result\n",
        "print(find_common(list1, list2))\n",
        "\n"
      ]
    },
    {
      "cell_type": "code",
      "execution_count": null,
      "metadata": {
        "colab": {
          "base_uri": "https://localhost:8080/"
        },
        "id": "KXogH6Hi_zu_",
        "outputId": "e765d74d-3f60-484d-8bab-7d6c1b52e7a8"
      },
      "outputs": [
        {
          "name": "stdout",
          "output_type": "stream",
          "text": [
            "[1, 4, 9, 16, 25]\n",
            "[676, 729, 784, 841, 900]\n"
          ]
        }
      ],
      "source": [
        "#[10]\n",
        "def printValues():\n",
        "\tl = list()\n",
        "\tfor i in range(1,31):\n",
        "\t\tl.append(i**2)\n",
        "\tprint(l[:5])\n",
        "\tprint(l[-5:])\n",
        "printValues()"
      ]
    },
    {
      "cell_type": "code",
      "execution_count": null,
      "metadata": {
        "colab": {
          "base_uri": "https://localhost:8080/"
        },
        "id": "0cW5h6olCWy4",
        "outputId": "b86e01fa-b035-44b9-c083-cd71aa84242c"
      },
      "outputs": [
        {
          "name": "stdout",
          "output_type": "stream",
          "text": [
            "[1, 2, 3, 4, 5]\n"
          ]
        }
      ],
      "source": [
        "#[11]\n",
        "def unique_list(l):\n",
        "  x = []\n",
        "  for a in l:\n",
        "    if a not in x:\n",
        "      x.append(a)\n",
        "  return x\n",
        "\n",
        "print(unique_list([1,2,3,3,3,3,4,5])) "
      ]
    },
    {
      "cell_type": "code",
      "execution_count": null,
      "metadata": {
        "colab": {
          "base_uri": "https://localhost:8080/"
        },
        "id": "m3tJtO-3DfBf",
        "outputId": "cc61c5e6-edde-4e50-99bf-0b8693cecb21"
      },
      "outputs": [
        {
          "name": "stdout",
          "output_type": "stream",
          "text": [
            "S H R E Y A\n"
          ]
        }
      ],
      "source": [
        "#[12]\n",
        "s = ['S','H','R','E','Y','A']\n",
        "str1 = ' '.join(s)\n",
        "print(str1)"
      ]
    },
    {
      "cell_type": "code",
      "execution_count": null,
      "metadata": {
        "colab": {
          "base_uri": "https://localhost:8080/"
        },
        "id": "KmICvHOoENMp",
        "outputId": "5ca7d696-b2d1-428d-f794-b3ade1e584dd"
      },
      "outputs": [
        {
          "name": "stdout",
          "output_type": "stream",
          "text": [
            "Black\n"
          ]
        }
      ],
      "source": [
        "#[13]\n",
        "import random\n",
        "colour_list=['Red','Blue','Green','Yellow','White','Black']\n",
        "print(random.choice(colour_list))"
      ]
    },
    {
      "cell_type": "code",
      "execution_count": null,
      "metadata": {
        "colab": {
          "base_uri": "https://localhost:8080/"
        },
        "id": "yRGmWbU9E1SR",
        "outputId": "292003a7-74a8-4ba2-f6af-7cbd80c657b9"
      },
      "outputs": [
        {
          "name": "stdout",
          "output_type": "stream",
          "text": [
            "Enter 10 Numbers (Elements) for List: \n",
            "12345\n",
            "1234\n",
            "123\n",
            "1234\n",
            "4321\n",
            "986\n",
            "8776\n",
            "666\n",
            "666\n",
            "234\n",
            "\n",
            "Second Smallest Number is: \n",
            "234\n"
          ]
        }
      ],
      "source": [
        "#[14]\n",
        "nums = []\n",
        "print(\"Enter 10 Numbers (Elements) for List: \")\n",
        "for i in range(10):\n",
        "  nums.append(int(input()))\n",
        "\n",
        "small = nums[0]\n",
        "for i in range(10):\n",
        "  if small>nums[i]:\n",
        "    small = nums[i]\n",
        "\n",
        "secondSmall = nums[0]\n",
        "for i in range(10):\n",
        "  if secondSmall>nums[i]:\n",
        "    if nums[i]!=small:\n",
        "      secondSmall=nums[i]\n",
        "\n",
        "print(\"\\nSecond Smallest Number is: \")\n",
        "print(secondSmall)"
      ]
    },
    {
      "cell_type": "code",
      "execution_count": null,
      "metadata": {
        "colab": {
          "base_uri": "https://localhost:8080/"
        },
        "id": "e677HX3tGXbT",
        "outputId": "e15553fc-1ea7-4dd0-855c-29ce03f16be1"
      },
      "outputs": [
        {
          "name": "stdout",
          "output_type": "stream",
          "text": [
            "[1, 2, 3, 4, 5, 6]\n"
          ]
        }
      ],
      "source": [
        "#[15]\n",
        "def unique_numbers(duplicate): \n",
        "   unique_numbers_set = set(duplicate)  \n",
        "   unique_numbers_list = list(unique_numbers_set) \n",
        "   return unique_numbers_list\n",
        "duplicate_list = [1, 2, 3, 4, 1, 2, 5, 6, 6, 6] \n",
        "print(unique_numbers(duplicate_list))"
      ]
    },
    {
      "cell_type": "code",
      "execution_count": null,
      "metadata": {
        "colab": {
          "base_uri": "https://localhost:8080/"
        },
        "id": "IsD7QF1AG8ol",
        "outputId": "99e76964-a3a1-4497-895e-6e7242f4ddac"
      },
      "outputs": [
        {
          "name": "stdout",
          "output_type": "stream",
          "text": [
            "The original list : [1, 2, 3, 4, 5, 6, 5, 7]\n",
            "Is sublist present in list ? : True\n"
          ]
        }
      ],
      "source": [
        "#[16]\n",
        "\n",
        "test_list = [1,2,3,4,5,6,5,7]\n",
        "print(\"The original list : \" +str(test_list))\n",
        "sublist = [1, 2, 3]\n",
        "res = any(test_list[idx: idx + len(sublist)] == sublist\n",
        "\t\tfor idx in range(len(test_list) - len(sublist) + 1))\n",
        "print(\"Is sublist present in list ? : \" + str(res))"
      ]
    },
    {
      "cell_type": "code",
      "execution_count": null,
      "metadata": {
        "colab": {
          "base_uri": "https://localhost:8080/"
        },
        "id": "R3YTce3tPrBb",
        "outputId": "de9bb0d4-caae-4f23-bea3-bea714d9b08c"
      },
      "outputs": [
        {
          "name": "stdout",
          "output_type": "stream",
          "text": [
            "s\n",
            "h\n",
            "r\n",
            "e\n",
            "y\n",
            "a\n"
          ]
        }
      ],
      "source": [
        "#[17]\n",
        "name=[('s'),('h'),('r'),('e'),('y'),('a')]\n",
        "var1, var2, var3, var4, var5, var6 = name\n",
        "print(var1)\n",
        "print(var2)\n",
        "print(var3)\n",
        "print(var4)\n",
        "print(var5)\n",
        "print(var6)"
      ]
    },
    {
      "cell_type": "markdown",
      "metadata": {
        "id": "tP5WIMLaT9sD"
      },
      "source": [
        "**18] What is tuple? Difference between list and tuple.** \n",
        "\n",
        "- Tuples are used to store multiple items in a single variable.A tuple is a collection which is ordered and unchangeable.\n",
        "- Tuple is one of 4 built-in data types in Python used to store collections of data, the other 3 are List, Set, and Dictionary, all with different qualities and usage.\n",
        "\n",
        "   **LIST**\n",
        "    - List is mutable.\t\n",
        "    - List iteration is slower and is time consuming.\t\n",
        "    - List is useful for insertion and deletion operations.\n",
        "    - List consumes more memory.\t\t\n",
        "    - List provides many in-built methods.\t\n",
        "\n",
        "  **TUPLE**\n",
        "    - Tuple is immutable.\n",
        "    - Tuple iteration is faster.\n",
        "    - Tuple is useful for readonly operations like accessing elements.\n",
        "    - Tuples consumes less memory.\n",
        "    - Tuples have less in-built methods.\n"
      ]
    },
    {
      "cell_type": "code",
      "execution_count": null,
      "metadata": {
        "colab": {
          "base_uri": "https://localhost:8080/"
        },
        "id": "jBodZdxSYf1N",
        "outputId": "5d0bfdc2-d81b-42be-ce10-68fd0a060062"
      },
      "outputs": [
        {
          "name": "stdout",
          "output_type": "stream",
          "text": [
            "('Shreya Patel', True, 'S', 3.21, 53)\n"
          ]
        }
      ],
      "source": [
        "#[19]\n",
        "x = (\"Shreya Patel\", True,'S', 3.21, 53)\n",
        "print(x)"
      ]
    },
    {
      "cell_type": "code",
      "execution_count": null,
      "metadata": {
        "colab": {
          "base_uri": "https://localhost:8080/"
        },
        "id": "DmAwKbS8ZoCS",
        "outputId": "98fee066-7f90-4806-bb96-fd0ba5679c3a"
      },
      "outputs": [
        {
          "name": "stdout",
          "output_type": "stream",
          "text": [
            "(1, 2, 3, 4, 5)\n",
            "(5,)\n"
          ]
        }
      ],
      "source": [
        "#[20]\n",
        "a=1,2,3,4,5\n",
        "print(a)\n",
        "a=5,\n",
        "print(a)"
      ]
    },
    {
      "cell_type": "code",
      "execution_count": null,
      "metadata": {
        "colab": {
          "base_uri": "https://localhost:8080/"
        },
        "id": "KmPY5NVhaezi",
        "outputId": "1633bebd-5b72-499b-deff-c085c49c352d"
      },
      "outputs": [
        {
          "name": "stdout",
          "output_type": "stream",
          "text": [
            "shreya\n"
          ]
        }
      ],
      "source": [
        "#[21]\n",
        "tup=('s','h','r','e','y','a')\n",
        "str = ''.join(tup)\n",
        "print(str)"
      ]
    },
    {
      "cell_type": "code",
      "execution_count": null,
      "metadata": {
        "colab": {
          "base_uri": "https://localhost:8080/"
        },
        "id": "UnbF9P_sbURe",
        "outputId": "69865bc1-2751-49e8-acb2-87de92c2c34d"
      },
      "outputs": [
        {
          "name": "stdout",
          "output_type": "stream",
          "text": [
            "True\n",
            "False\n"
          ]
        }
      ],
      "source": [
        "#[22]\n",
        "tup = (\"s\", 5, \"h\", \"r\", \"e\", \"y\", \"a\")\n",
        "print(\"s\" in tup)\n",
        "print(2 in tup)\n"
      ]
    },
    {
      "cell_type": "code",
      "execution_count": null,
      "metadata": {
        "colab": {
          "base_uri": "https://localhost:8080/"
        },
        "id": "SoWnvYfPeYrS",
        "outputId": "590d7216-8b7f-4b76-85a4-15138f37a8bf"
      },
      "outputs": [
        {
          "name": "stdout",
          "output_type": "stream",
          "text": [
            "Frist tuple length : 3\n",
            "Scond tuple length : 4\n"
          ]
        }
      ],
      "source": [
        "#[23]\n",
        "tup1=(\"Shreya\",\"Grishma\", 5320)\n",
        "tup2=(\"Aksh\", 711, \"Rutik\", 132)\n",
        "print(\"Frist tuple length :\", len(tup1))\n",
        "print(\"Scond tuple length :\", len(tup2))"
      ]
    },
    {
      "cell_type": "code",
      "execution_count": null,
      "metadata": {
        "colab": {
          "base_uri": "https://localhost:8080/"
        },
        "id": "myX0ZkB8fgCO",
        "outputId": "0e9be8c2-e60c-4108-873a-56bcaa116d49"
      },
      "outputs": [
        {
          "name": "stdout",
          "output_type": "stream",
          "text": [
            "[1, 2, 3, 4, 5, 6]\n",
            "(1, 2, 3, 4, 5, 6)\n"
          ]
        }
      ],
      "source": [
        "#[24]\n",
        "list = [1,2,3,4,5,6]\n",
        "print(list)\n",
        "tup=tuple(list)\n",
        "print(tup)"
      ]
    },
    {
      "cell_type": "code",
      "execution_count": null,
      "metadata": {
        "colab": {
          "base_uri": "https://localhost:8080/"
        },
        "id": "5Oi3AikGgnl0",
        "outputId": "c39076aa-2fc7-47a7-ee71-e0f3805672e8"
      },
      "outputs": [
        {
          "name": "stdout",
          "output_type": "stream",
          "text": [
            "(9, 8, 7, 6, 5, 4, 3, 2, 1)\n",
            "('a', 'y', 'e', 'r', 'h', 's')\n"
          ]
        }
      ],
      "source": [
        "#[25]\n",
        "x = (1,2,3,4,5,6,7,8,9)\n",
        "y = reversed(x)\n",
        "print(tuple(y))\n",
        "s = ('s', 'h', 'r', 'e', 'y', 'a')\n",
        "d = reversed(s)\n",
        "print(tuple(d))"
      ]
    },
    {
      "cell_type": "code",
      "execution_count": null,
      "metadata": {
        "colab": {
          "base_uri": "https://localhost:8080/"
        },
        "id": "_dgZMbGvh1Qq",
        "outputId": "674ab6b7-3416-4793-9698-8c0aaf62818e"
      },
      "outputs": [
        {
          "name": "stdout",
          "output_type": "stream",
          "text": [
            "[(5, 2, 10), (4, 7, 10), (8, 9, 10)]\n"
          ]
        }
      ],
      "source": [
        "#[26]\n",
        "l = [(5, 2, 3), (4, 7, 6), (8, 9, 6)]\n",
        "print([t[:-1] + (10,) for t in l])\n",
        " "
      ]
    },
    {
      "cell_type": "code",
      "execution_count": null,
      "metadata": {
        "colab": {
          "base_uri": "https://localhost:8080/"
        },
        "id": "RNqXYkB5ihCp",
        "outputId": "8c271474-ef4b-4e6f-d910-950665ab9998"
      },
      "outputs": [
        {
          "name": "stdout",
          "output_type": "stream",
          "text": [
            "(1, 2, 3, 4, 5, 6, 4, 7, 4, 8, 4, 4)\n",
            "5\n"
          ]
        }
      ],
      "source": [
        "#[27]\n",
        "t = (1,2,3,4,5,6,4,7,4,8,4,4)\n",
        "print(t)\n",
        "count = t.count(4)\n",
        "print(count)"
      ]
    },
    {
      "cell_type": "code",
      "execution_count": null,
      "metadata": {
        "colab": {
          "base_uri": "https://localhost:8080/"
        },
        "id": "NMQs5fhGjLhV",
        "outputId": "9b5dc2bf-7754-445d-c1a0-a3c1bf2b7bbd"
      },
      "outputs": [
        {
          "name": "stdout",
          "output_type": "stream",
          "text": [
            "[('one',), ('two',), ('three',)]\n"
          ]
        }
      ],
      "source": [
        "#[28]\n",
        "l = [('one',), (), ('two',), (), ('three',)]\n",
        "\n",
        "l = [t for t in l if t]\n",
        "print(l)"
      ]
    },
    {
      "cell_type": "code",
      "execution_count": null,
      "metadata": {
        "colab": {
          "base_uri": "https://localhost:8080/"
        },
        "id": "q63KYCucnHyV",
        "outputId": "1e191271-a24c-4439-e69f-4cf00868b30a"
      },
      "outputs": [
        {
          "name": "stdout",
          "output_type": "stream",
          "text": [
            "[(10, 60, 20), (30, 90, 50)]\n"
          ]
        }
      ],
      "source": [
        "#[29]\n",
        "l = [(10,30), (60,90), (20,50)]\n",
        "print(list(zip(*l)))\n",
        " "
      ]
    },
    {
      "cell_type": "code",
      "execution_count": null,
      "metadata": {
        "colab": {
          "base_uri": "https://localhost:8080/"
        },
        "id": "tIQxDlzbsG7N",
        "outputId": "4e9bf66f-ec89-43cb-f868-0a1aa84c4f53"
      },
      "outputs": [
        {
          "name": "stdout",
          "output_type": "stream",
          "text": [
            "{'Name': ['Shreya', 'Aksh', 'Grishma'], 'Age': [22, 20, 23], 'Gender': ['Female', 'Male', 'Female']}\n"
          ]
        }
      ],
      "source": [
        "#[30]\n",
        "l = [(\"Name\", \"Shreya\"), (\"Name\", \"Aksh\"), (\"Name\", \"Grishma\"), (\"Age\", 22), (\"Gender\", \"Female\"), (\"Age\", 20), (\"Gender\", \"Male\"), (\"Gender\", \"Female\") , (\"Age\", 23)]\n",
        "dic = {}\n",
        "for x, y in l:\n",
        "    dic.setdefault(x, []).append(y)\n",
        "print (dic)"
      ]
    },
    {
      "cell_type": "markdown",
      "metadata": {
        "id": "QjQZTvtV-JQk"
      },
      "source": [
        "**31] How will you create a dictionary using tuples in python?** \n",
        "\n",
        "\n",
        "- In Python, use the dict() function to convert a tuple to a dictionary. A dictionary object can be created with the dict() function. The dictionary is returned by the dict() method, which takes a tuple of tuples as an argument. "
      ]
    },
    {
      "cell_type": "code",
      "execution_count": null,
      "metadata": {
        "colab": {
          "base_uri": "https://localhost:8080/"
        },
        "id": "WDhJn-wuAFvm",
        "outputId": "d7fb8d37-96cb-4e46-8465-7767f6795a50"
      },
      "outputs": [
        {
          "name": "stdout",
          "output_type": "stream",
          "text": [
            "Original dictionary :  {1: 2, 3: 4, 4: 3, 2: 1, 0: 0}\n",
            "Ascending order :  [(0, 0), (2, 1), (1, 2), (4, 3), (3, 4)]\n",
            "Descending order :  {3: 4, 4: 3, 1: 2, 2: 1, 0: 0}\n"
          ]
        }
      ],
      "source": [
        "#[32]\n",
        "import operator\n",
        "a = {1: 2, 3: 4, 4: 3, 2: 1, 0: 0}\n",
        "print('Original dictionary : ',d)\n",
        "sa = sorted(a.items(), key=operator.itemgetter(1))\n",
        "print('Ascending order : ',sa)\n",
        "sd = dict( sorted(a.items(), key=operator.itemgetter(1),reverse=True))\n",
        "print('Descending order : ',sd)"
      ]
    },
    {
      "cell_type": "code",
      "execution_count": null,
      "metadata": {
        "colab": {
          "base_uri": "https://localhost:8080/"
        },
        "id": "RuBvDC6jAzWw",
        "outputId": "85612fe8-d792-4639-b490-72f70291833a"
      },
      "outputs": [
        {
          "name": "stdout",
          "output_type": "stream",
          "text": [
            "{'Name': 'Shreya', 'Age': 23, 'City': 'Rajkot', 'Gender': 'Female', 'Mark': 450}\n"
          ]
        }
      ],
      "source": [
        "#[33]\n",
        "s1={\"Name\":\"Shreya\" , \"Age\":23}\n",
        "s2={\"City\": \"Rajkot\", \"Gender\": \"Female\"}\n",
        "s3={\"Mark\":450}\n",
        "s4 = {}\n",
        "for d in (s1, s2, s3): s4.update(d)\n",
        "print(s4)"
      ]
    },
    {
      "cell_type": "code",
      "execution_count": null,
      "metadata": {
        "colab": {
          "base_uri": "https://localhost:8080/"
        },
        "id": "_UZXbIusCW3X",
        "outputId": "df417fb8-22df-4e2e-ad36-ca85ba7eef7e"
      },
      "outputs": [
        {
          "name": "stdout",
          "output_type": "stream",
          "text": [
            "Enter key to check:d\n",
            "Key isn't present!\n"
          ]
        }
      ],
      "source": [
        "#[34]\n",
        "d={'A':1,'B':2,'C':3}\n",
        "key=input(\"Enter key to check:\")\n",
        "if key in d.keys():\n",
        "      print(\"Key is present and value of the key is:\")\n",
        "      print(d[key])\n",
        "else:\n",
        "      print(\"Key isn't present!\")"
      ]
    },
    {
      "cell_type": "markdown",
      "metadata": {
        "id": "6CECQTR5FH86"
      },
      "source": [
        "**35] How Do You Traverse Through A Dictionary Object In Python?**\n",
        "\n",
        "- Iterating Through Keys Directly.\n",
        "-Iterating Through .items()\n",
        "-Iterating Through .keys()\n",
        "-Iterating Through .values()\n"
      ]
    },
    {
      "cell_type": "markdown",
      "metadata": {
        "id": "SOJwt9ZzGqXo"
      },
      "source": [
        "**36] How Do You Check The Presence Of A Key In A Dictionary?** \n",
        "\n",
        "\n",
        " - Using the Inbuilt method keys() method returns a list of all the available keys in the dictionary. With the Inbuilt method keys(), use if statement with 'in' operator to check if the key is present in the dictionary or not."
      ]
    },
    {
      "cell_type": "code",
      "execution_count": null,
      "metadata": {
        "colab": {
          "base_uri": "https://localhost:8080/"
        },
        "id": "CaxNZ5PWHE7Z",
        "outputId": "9026d241-54b7-415c-aa1f-3536175c967c"
      },
      "outputs": [
        {
          "name": "stdout",
          "output_type": "stream",
          "text": [
            "Enter the Limit : 6\n",
            "{1: 1, 2: 4, 3: 9, 4: 16, 5: 25, 6: 36}\n"
          ]
        }
      ],
      "source": [
        "#[37]\n",
        "l=int(input(\"Enter the Limit : \"))\n",
        "d = dict()\n",
        "for x in range(1,l+1):\n",
        "    d[x]=x**2\n",
        "print(d)"
      ]
    },
    {
      "cell_type": "code",
      "execution_count": null,
      "metadata": {
        "colab": {
          "base_uri": "https://localhost:8080/"
        },
        "id": "FSd12hUfHgXy",
        "outputId": "c5a936df-c6a8-496f-da8b-4dc3fa0d09c0"
      },
      "outputs": [
        {
          "name": "stdout",
          "output_type": "stream",
          "text": [
            "True\n",
            "False\n",
            "True\n"
          ]
        }
      ],
      "source": [
        "#[38]\n",
        "student = {\n",
        "  'name': 'Shreya',\n",
        "  'age': 23,\n",
        "  'city': 'Surat'\n",
        "}\n",
        "print(student.keys() >= {'age', 'name'})\n",
        "print(student.keys() >= {'City', 'Ram'})\n",
        "print(student.keys() >= {'city', 'age'})"
      ]
    },
    {
      "cell_type": "code",
      "execution_count": null,
      "metadata": {
        "colab": {
          "base_uri": "https://localhost:8080/"
        },
        "id": "vvxY7i2hIxBZ",
        "outputId": "22bdfd44-f2f3-4223-d30b-70d5813a344a"
      },
      "outputs": [
        {
          "name": "stdout",
          "output_type": "stream",
          "text": [
            "{'s': 500, 't': 100, 'x': 300, 'y': 400}\n"
          ]
        }
      ],
      "source": [
        "#[39]\n",
        "a1 = {'s': 500, 't': 100}\n",
        "a2 = {'x': 300, 'y': 400}\n",
        "b = a1.copy()\n",
        "b.update(a2)\n",
        "print(b)"
      ]
    },
    {
      "cell_type": "code",
      "execution_count": null,
      "metadata": {
        "colab": {
          "base_uri": "https://localhost:8080/"
        },
        "id": "dtcD_epzKLvp",
        "outputId": "186a1bae-2644-4b24-b112-1a3e86bf13e9"
      },
      "outputs": [
        {
          "name": "stdout",
          "output_type": "stream",
          "text": [
            "Dictionary Items  :   {'name': 'Shreya', 'age': 23, 'job': 'Developer'}\n"
          ]
        }
      ],
      "source": [
        "#[40]\n",
        "keys = ['name', 'age', 'job']\n",
        "values = ['Shreya', 23, 'Developer']\n",
        "\n",
        "mydict = {k: v for k, v in zip(keys, values)}\n",
        "print(\"Dictionary Items  :  \",  mydict)"
      ]
    },
    {
      "cell_type": "code",
      "execution_count": null,
      "metadata": {
        "colab": {
          "base_uri": "https://localhost:8080/"
        },
        "id": "WjQil1VRLhSl",
        "outputId": "7f4cc579-d620-46b8-b548-d0d5e716246e"
      },
      "outputs": [
        {
          "name": "stdout",
          "output_type": "stream",
          "text": [
            "The new  dict is: Counter({'a': 400, 'b': 400, 'd': 400, 'c': 300})\n"
          ]
        }
      ],
      "source": [
        "#[41]\n",
        "from collections import Counter  \n",
        "dict1 = {'a': 100, 'b': 200, 'c':300}  \n",
        "dict2 = {'a': 300, 'b': 200, 'd':400}  \n",
        "new_dict = Counter(dict1) + Counter(dict2)  \n",
        "print(\"The new  dict is:\", new_dict)"
      ]
    },
    {
      "cell_type": "code",
      "execution_count": null,
      "metadata": {
        "colab": {
          "base_uri": "https://localhost:8080/"
        },
        "id": "a97MiHQMMvqw",
        "outputId": "423a7460-01fd-4368-e658-8962e8833a04"
      },
      "outputs": [
        {
          "name": "stdout",
          "output_type": "stream",
          "text": [
            "The original dictionary is :  {'A': [1, 3, 5, 4], 'B': [4, 6, 8, 10], 'C': [6, 12, 4, 8], 'D': [5, 7, 2]}\n",
            "The unique values list is :  [1, 2, 3, 4, 5, 6, 7, 8, 10, 12]\n"
          ]
        }
      ],
      "source": [
        "#[41]\n",
        "dict1 = {'A' : [1, 3, 5, 4],'B' : [4, 6, 8, 10],'C' : [6, 12, 4 ,8],'D' : [5, 7, 2]}\n",
        "print(\"The original dictionary is : \" ,dict1)\n",
        "res = list(sorted({ele for val in dict1.values() for ele in val}))\n",
        "print(\"The unique values list is : \" , res) "
      ]
    },
    {
      "cell_type": "markdown",
      "metadata": {
        "id": "d_Ko2Zh3Ow_m"
      },
      "source": [
        "**42]  Why Do You Use the Zip () Method in Python?**\n",
        "\n",
        " - Python’s zip() function is defined as zip(*iterables). The function takes in iterables as arguments and returns an iterator. This iterator generates a series of tuples containing elements from each iterable. zip() can accept any type of iterable, such as files, lists, tuples, dictionaries, sets, and so on. \n",
        " - Python’s zip() function creates an iterator that will aggregate elements from two or more iterables. You can use the resulting iterator to quickly and consistently solve common programming problems, like creating dictionaries."
      ]
    },
    {
      "cell_type": "code",
      "execution_count": null,
      "metadata": {
        "colab": {
          "base_uri": "https://localhost:8080/"
        },
        "id": "SnwFoHELPlR9",
        "outputId": "759a8f64-240b-47ae-9732-32ba58c32cd6"
      },
      "outputs": [
        {
          "name": "stdout",
          "output_type": "stream",
          "text": [
            "ac\n",
            "ad\n",
            "bc\n",
            "bd\n"
          ]
        }
      ],
      "source": [
        "#[43]\n",
        "import itertools      \n",
        "x ={'1':['a','b'], '2':['c','d']}\n",
        "for combo in itertools.product(*[x[k] for k in sorted(x.keys())]):\n",
        "    print(''.join(combo))"
      ]
    },
    {
      "cell_type": "code",
      "execution_count": null,
      "metadata": {
        "colab": {
          "base_uri": "https://localhost:8080/"
        },
        "id": "WFqaoRRbSA32",
        "outputId": "b6ea38ab-ecdf-4ad5-f6bc-6bfbef06e14e"
      },
      "outputs": [
        {
          "name": "stdout",
          "output_type": "stream",
          "text": [
            "['b', 'e', 'c']\n"
          ]
        }
      ],
      "source": [
        "#[44]\n",
        "from collections import Counter\n",
        "my_dict = {'a':500, 'b':5874, 'c': 560,'d':400, 'e':5874, 'f': 20}  \n",
        "c = Counter(my_dict)\n",
        "most_common = c.most_common(3)\n",
        "my_keys = [key for key, val in most_common]\n",
        "print(my_keys)\n",
        "\n"
      ]
    },
    {
      "cell_type": "code",
      "execution_count": null,
      "metadata": {
        "colab": {
          "base_uri": "https://localhost:8080/"
        },
        "id": "XRctf-uOVxWL",
        "outputId": "4f6396c4-ff6a-4892-f6ab-19bbd374332f"
      },
      "outputs": [
        {
          "name": "stdout",
          "output_type": "stream",
          "text": [
            "Counter({'item1': 1150, 'item2': 300})\n"
          ]
        }
      ],
      "source": [
        "#[45]\n",
        "from collections import Counter\n",
        "item_list = [{'item': 'item1', 'amount': 400}, {'item': 'item2', 'amount': 300}, {'item': 'item1', 'amount': 750}]\n",
        "result = Counter()\n",
        "for d in item_list:\n",
        "    result[d['item']] += d['amount']\n",
        "print(result) \n"
      ]
    },
    {
      "cell_type": "code",
      "execution_count": null,
      "metadata": {
        "colab": {
          "base_uri": "https://localhost:8080/"
        },
        "id": "XC1-bIXRV1Yv",
        "outputId": "cf7708cd-b7db-42a9-8844-38cdfe56d68d"
      },
      "outputs": [
        {
          "name": "stdout",
          "output_type": "stream",
          "text": [
            "{'w': 1, '3': 1, 'r': 2, 'e': 2, 's': 1, 'o': 1, 'u': 1, 'c': 1}\n"
          ]
        }
      ],
      "source": [
        "#[46]\n",
        "from collections import defaultdict, Counter\n",
        "str1 = 'w3resource' \n",
        "my_dict = {}\n",
        "for letter in str1:\n",
        "    my_dict[letter] = my_dict.get(letter, 0) + 1\n",
        "print(my_dict)\n",
        "\n"
      ]
    },
    {
      "cell_type": "code",
      "execution_count": null,
      "metadata": {
        "colab": {
          "base_uri": "https://localhost:8080/"
        },
        "id": "m2APTN-AiPCl",
        "outputId": "fb365034-cc28-4d58-8c16-4b4ebb99ec42"
      },
      "outputs": [
        {
          "name": "stdout",
          "output_type": "stream",
          "text": [
            "Enter a number: 7\n",
            "The factorial of 7 is 5040\n"
          ]
        }
      ],
      "source": [
        "#[47]\n",
        "num = int(input(\"Enter a number: \"))    \n",
        "factorial = 1    \n",
        "if num < 0:    \n",
        "   print(\" Factorial does not exist for negative numbers\")    \n",
        "elif num == 0:    \n",
        "   print(\"The factorial of 0 is 1\")    \n",
        "else:    \n",
        "   for i in range(1,num + 1):    \n",
        "       factorial = factorial*i    \n",
        "   print(\"The factorial of\",num,\"is\", factorial)"
      ]
    },
    {
      "cell_type": "code",
      "execution_count": null,
      "metadata": {
        "colab": {
          "base_uri": "https://localhost:8080/"
        },
        "id": "JmZRNLTRkGDI",
        "outputId": "9d0f94be-943c-460f-f861-0f4afda8327a"
      },
      "outputs": [
        {
          "name": "stdout",
          "output_type": "stream",
          "text": [
            "Number 15 is in the range\n"
          ]
        }
      ],
      "source": [
        "#[48]\n",
        "def test_range(n):\n",
        "    if n in range(10,20):\n",
        "        print( \"Number %s is in the range\"%str(n))\n",
        "    else :\n",
        "        print(\"The number is outside the given range.\")\n",
        "test_range(15)"
      ]
    },
    {
      "cell_type": "code",
      "execution_count": null,
      "metadata": {
        "colab": {
          "base_uri": "https://localhost:8080/"
        },
        "id": "N0vA3O1ckytn",
        "outputId": "10966f4f-d8f4-41c6-efc6-c203b2d24216"
      },
      "outputs": [
        {
          "name": "stdout",
          "output_type": "stream",
          "text": [
            "Enter the number: 6\n",
            "The entered number is a perfect number\n"
          ]
        }
      ],
      "source": [
        "#[49]\n",
        "num=int(input(\"Enter the number: \"))  \n",
        "sum_v=0  \n",
        "for i in range(1,num):  \n",
        "    if (num%i==0):  \n",
        "        sum_v=sum_v+i  \n",
        "if(sum_v==num):  \n",
        "    print(\"The entered number is a perfect number\")  \n",
        "else:  \n",
        "    print(\"The entered number is not a perfect number\") "
      ]
    },
    {
      "cell_type": "code",
      "execution_count": null,
      "metadata": {
        "colab": {
          "base_uri": "https://localhost:8080/"
        },
        "id": "PAtRjdTglhSo",
        "outputId": "b8638385-11cb-44f7-cbdb-5028a9f9612c"
      },
      "outputs": [
        {
          "name": "stdout",
          "output_type": "stream",
          "text": [
            "True\n"
          ]
        }
      ],
      "source": [
        "#[50]\n",
        "def isPalindrome(string):\n",
        "\tleft_pos = 0\n",
        "\tright_pos = len(string) - 1\n",
        "\t\n",
        "\twhile right_pos >= left_pos:\n",
        "\t\tif not string[left_pos] == string[right_pos]:\n",
        "\t\t\treturn False\n",
        "\t\tleft_pos += 1\n",
        "\t\tright_pos -= 1\n",
        "\treturn True\n",
        "print(isPalindrome('madam')) \n"
      ]
    },
    {
      "cell_type": "markdown",
      "metadata": {
        "id": "UdYIDqfAoYm8"
      },
      "source": [
        "**51] How Many Basic Types Of Functions Are Available In Python?**\n",
        "\n",
        "- There are three types of functions in Python.\n",
        "    - Python Built-in Functions.\n",
        "    -Python Recursion Functions.\n",
        "    -Python Lambda Functions.\n",
        "    -Python User-defined Function"
      ]
    },
    {
      "cell_type": "markdown",
      "metadata": {
        "id": "Cm0nxmSsqSAT"
      },
      "source": [
        "**52] How can you pick a random item from a list or tuple?**\n",
        "\n",
        "- Generate a random item from the tuple using random. choice() method by passing the input tuple as an argument to the choice() function. Print the generated random tuple item.\n"
      ]
    },
    {
      "cell_type": "markdown",
      "metadata": {
        "id": "Qa0R4U3bt4LX"
      },
      "source": [
        "**53] How can you pick a random item from a range?**\n",
        "- Generate random integers using random. randrange() method. Python provides a function named randrange() in the random package that can produce random numbers from a given range while still enabling spaces for steps to be included. The below example uses randrange() to randomly print integers. \n"
      ]
    },
    {
      "cell_type": "markdown",
      "metadata": {
        "id": "zBxhVZQ3uR6M"
      },
      "source": [
        "**54] How can you get a random number in python?**\n",
        "- To generate random number in Python, randint() function is used. This function is defined in random module. \n"
      ]
    },
    {
      "cell_type": "markdown",
      "metadata": {
        "id": "RiROiP7-vOBs"
      },
      "source": [
        "**55] How will you set the starting value in generating random numbers?**\n",
        "- The seed() method is used to initialize the random number generator. The random number generator needs a number to start with (a seed value), to be able to generate a random number. By default the random number generator uses the current system time.\n"
      ]
    },
    {
      "cell_type": "markdown",
      "metadata": {
        "id": "1K3ttVwnv_B3"
      },
      "source": [
        "**56] How will you randomizes the items of a list in place?** \n",
        "\n",
        "- The shuffle() method randomizes the items of a list in place.\n"
      ]
    },
    {
      "cell_type": "code",
      "execution_count": null,
      "metadata": {
        "id": "U6XSVTCUyU22"
      },
      "outputs": [],
      "source": [
        "#57]\n",
        "import random\n",
        "lines = open('file.txt').read().splitlines()\n",
        "myline =random.choice(lines)\n",
        "print(myline)"
      ]
    },
    {
      "cell_type": "code",
      "execution_count": null,
      "metadata": {
        "colab": {
          "base_uri": "https://localhost:8080/"
        },
        "id": "4NXA-8kBzf1x",
        "outputId": "c8d6009e-4613-4b77-87f2-c5c76f3b3d1b"
      },
      "outputs": [
        {
          "name": "stdout",
          "output_type": "stream",
          "text": [
            "0.0873015873015873\n"
          ]
        }
      ],
      "source": [
        "# [58]\n",
        "pi = 22/7\n",
        "degrees = 5\n",
        "\n",
        "radians = degrees * pi / 180\n",
        "print(radians)"
      ]
    },
    {
      "cell_type": "code",
      "execution_count": 2,
      "metadata": {
        "colab": {
          "base_uri": "https://localhost:8080/"
        },
        "id": "Ic2QRtXePCb3",
        "outputId": "500c0398-4de0-491d-b232-c638d514f7a7"
      },
      "outputs": [
        {
          "name": "stdout",
          "output_type": "stream",
          "text": [
            "Enter Height of Trapezoid: 2\n",
            "Enter the Base 1 Value :3\n",
            "Enter the Base 2 Value :3\n",
            "Area :  6.0\n"
          ]
        }
      ],
      "source": [
        "#[59]\n",
        "b1 = 5\n",
        "b2 = 6\n",
        "hgt = float(input(\"Enter Height of Trapezoid: \"))\n",
        "b1 = float(input(\"Enter the Base 1 Value :\"))\n",
        "b2 = float(input(\"Enter the Base 2 Value :\"))\n",
        "area = ((b1 + b2) / 2) * hgt\n",
        "print(\"Area : \", area)"
      ]
    },
    {
      "cell_type": "code",
      "execution_count": 3,
      "metadata": {
        "colab": {
          "base_uri": "https://localhost:8080/"
        },
        "id": "b8rRaHHuQmcf",
        "outputId": "556cb735-0c29-4e42-f8a3-abda6889b5ff"
      },
      "outputs": [
        {
          "name": "stdout",
          "output_type": "stream",
          "text": [
            "Enter The Length of Base : 3\n",
            "Enter Measurement of height : 2.4\n",
            "Area :  7.199999999999999\n"
          ]
        }
      ],
      "source": [
        "#[60]\n",
        "base = float(input(\"Enter The Length of Base : \"))\n",
        "height = float(input(\"Enter Measurement of height : \"))\n",
        "area = base * height\n",
        "print(\"Area : \", area)"
      ]
    },
    {
      "cell_type": "code",
      "execution_count": 4,
      "metadata": {
        "colab": {
          "base_uri": "https://localhost:8080/"
        },
        "id": "CDSxEIiERE_N",
        "outputId": "1787eac5-92af-43d3-bdca-8215b21dc5a5"
      },
      "outputs": [
        {
          "name": "stdout",
          "output_type": "stream",
          "text": [
            "Enter The Height of Cylinder: 3.2\n",
            "Enter The Radius of Cylinder: 2\n",
            "Volume :  40.19200000000001\n",
            "Surface Area :  65.31200000000001\n"
          ]
        }
      ],
      "source": [
        "#[61]\n",
        "pi=3.14\n",
        "height = float(input(\"Enter The Height of Cylinder: \"))\n",
        "radian = float(input(\"Enter The Radius of Cylinder: \"))\n",
        "volume = pi * radian * radian * height\n",
        "sur_area = ((2*pi*radian) * height) + ((pi*radian**2)*2)\n",
        "print(\"Volume : \", volume)\n",
        "print(\"Surface Area : \", sur_area)"
      ]
    },
    {
      "cell_type": "code",
      "execution_count": 5,
      "metadata": {
        "colab": {
          "base_uri": "https://localhost:8080/"
        },
        "id": "c9xwtApdRnJU",
        "outputId": "7acf0c64-fd46-40d4-86d5-35b54cc37388"
      },
      "outputs": [
        {
          "name": "stdout",
          "output_type": "stream",
          "text": [
            "Enter the Number :12\n",
            "Sum of All Divisors : 16\n"
          ]
        }
      ],
      "source": [
        "#[62]\n",
        "num = int(input(\"Enter the Number :\"))\n",
        "div = [1]\n",
        "for i in range(2, num):\n",
        "\tif (num % i)==0:\n",
        "\t\tdiv.append(i)\n",
        "print(\"Sum of All Divisors :\",sum(div))"
      ]
    },
    {
      "cell_type": "code",
      "execution_count": 6,
      "metadata": {
        "colab": {
          "base_uri": "https://localhost:8080/"
        },
        "id": "K-Rb01WMR-Zy",
        "outputId": "d3f2ecf1-87bb-45de-b25a-29dc90782935"
      },
      "outputs": [
        {
          "name": "stdout",
          "output_type": "stream",
          "text": [
            "Enter the Multiple Decimal Points Comma Separate...\n",
            "23,34,13,45,67,87,89,46,29\n",
            "Maximum:  89\n",
            "Minimum:  13\n"
          ]
        }
      ],
      "source": [
        "#[63]\n",
        "print(\"Enter the Multiple Decimal Points Comma Separate...\")\n",
        "dec = input(\"\").split(\",\")\n",
        "print(\"Maximum: \", max(dec))\n",
        "print(\"Minimum: \", min(dec))"
      ]
    }
  ],
  "metadata": {
    "colab": {
      "provenance": []
    },
    "kernelspec": {
      "display_name": "Python 3",
      "language": "python",
      "name": "python3"
    },
    "language_info": {
      "name": "python",
      "version": "3.11.1 (tags/v3.11.1:a7a450f, Dec  6 2022, 19:58:39) [MSC v.1934 64 bit (AMD64)]"
    },
    "vscode": {
      "interpreter": {
        "hash": "4844f72be64a60917c270c36e375e551c53b2b39f0302f62f9565e09ac741988"
      }
    }
  },
  "nbformat": 4,
  "nbformat_minor": 0
}
